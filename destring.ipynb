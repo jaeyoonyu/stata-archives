{
 "cells": [
  {
   "cell_type": "markdown",
   "id": "9d7d5d18-b4fd-4bba-951d-4fe6b6dd171e",
   "metadata": {},
   "source": [
    "## This code explains \n",
    "1. how to destring all string variables including numeric values;\n",
    "2. how to find non-numeric values of variables that look like numeric (e.g., X in 0,1,1,0,X,0,1);\n",
    "3. how to destring a specific variable"
   ]
  },
  {
   "cell_type": "markdown",
   "id": "e144c679-f366-4418-bb77-12388f6fea58",
   "metadata": {},
   "source": [
    "## Useful resources:\n",
    "1. https://stats.idre.ucla.edu/stata/faq/how-can-i-quickly-convert-many-string-variables-to-numericvariables/"
   ]
  },
  {
   "cell_type": "code",
   "execution_count": 1,
   "id": "1f017046-6745-459e-96b6-760bc4035088",
   "metadata": {
    "scrolled": true,
    "tags": []
   },
   "outputs": [
    {
     "name": "stdout",
     "output_type": "stream",
     "text": [
      "\n",
      "  ___  ____  ____  ____  ____ ©\n",
      " /__    /   ____/   /   ____/      17.0\n",
      "___/   /   /___/   /   /___/       MP—Parallel Edition\n",
      "\n",
      " Statistics and Data Science       Copyright 1985-2021 StataCorp LLC\n",
      "                                   StataCorp\n",
      "                                   4905 Lakeway Drive\n",
      "                                   College Station, Texas 77845 USA\n",
      "                                   800-STATA-PC        https://www.stata.com\n",
      "                                   979-696-4600        stata@stata.com\n",
      "\n",
      "Stata license: Unlimited-user 2-core network, expiring 25 May 2022\n",
      "Serial number: 501709318376\n",
      "  Licensed to: Jaeyoon Yu\n",
      "               Erasmus University\n",
      "\n",
      "Notes:\n",
      "      1. Unicode is supported; see help unicode_advice.\n",
      "      2. More than 2 billion observations are allowed; see help obs_advice.\n",
      "      3. Maximum number of variables is set to 5,000; see help set_maxvar.\n"
     ]
    }
   ],
   "source": [
    "import stata_setup\n",
    "stata_setup.config(\"C:/Program Files/Stata17\", \"mp\")"
   ]
  },
  {
   "cell_type": "code",
   "execution_count": 2,
   "id": "d3fe87a3-4672-4ed4-a735-442d6478c215",
   "metadata": {},
   "outputs": [
    {
     "name": "stdout",
     "output_type": "stream",
     "text": [
      "\n",
      ". use https://stats.idre.ucla.edu/stat/stata/faq/hsbs, clear\n",
      "\n",
      ". list _all\n",
      "\n",
      "     +-----------------------------------------------+\n",
      "     |  id   gender   race   schtyp   read   science |\n",
      "     |-----------------------------------------------|\n",
      "  1. |  70        m      1      pub     45        47 |\n",
      "  2. | 121        f      1      pub     68        63 |\n",
      "  3. |  86        m      1      pub     44        58 |\n",
      "  4. | 141        m      1      pub     63        53 |\n",
      "  5. | 172        m      1      pub     47        53 |\n",
      "     |-----------------------------------------------|\n",
      "  6. | 113        m      1      pub     44        63 |\n",
      "  7. |  50        m      3      pub     50        53 |\n",
      "  8. |  11        m      2      pub     34        39 |\n",
      "  9. |  84        m      1      pub     63         . |\n",
      " 10. |  48        m      3      pub     57        50 |\n",
      "     |-----------------------------------------------|\n",
      " 11. |  75        m      1      pub     60        53 |\n",
      " 12. |  60        m      X      pub     57        63 |\n",
      " 13. |  95        m      1      pub     73        61 |\n",
      " 14. | 104        m      1      pub     54        55 |\n",
      " 15. |  38        m      3      pub     45        31 |\n",
      "     |-----------------------------------------------|\n",
      " 16. | 115        m      1      pub     42        50 |\n",
      " 17. |  76        m      1      pub     47        50 |\n",
      " 18. | 195        m      1      pri     57           |\n",
      " 19. | 114        m      1      pub     68        55 |\n",
      " 20. |  85        m      1      pub     55        53 |\n",
      "     +-----------------------------------------------+\n",
      "\n",
      ". \n"
     ]
    }
   ],
   "source": [
    "%%stata\n",
    "use https://stats.idre.ucla.edu/stat/stata/faq/hsbs, clear\n",
    "list _all"
   ]
  },
  {
   "cell_type": "code",
   "execution_count": 3,
   "id": "ae08a4f6-4670-4c05-889a-83ee59bb131b",
   "metadata": {
    "scrolled": true,
    "tags": []
   },
   "outputs": [
    {
     "name": "stdout",
     "output_type": "stream",
     "text": [
      "\n",
      "Variable      Storage   Display    Value\n",
      "    name         type    format    label      Variable label\n",
      "-------------------------------------------------------------------------------\n",
      "id              str3    %3s                   \n",
      "race            str5    %9s                   \n",
      "read            str2    %5s                   \n",
      "science         str2    %5s                   \n"
     ]
    }
   ],
   "source": [
    "# describe data\n",
    "%stata describe id race read science"
   ]
  },
  {
   "cell_type": "code",
   "execution_count": 4,
   "id": "498776da-28d4-492d-9644-59b72770bce3",
   "metadata": {},
   "outputs": [
    {
     "name": "stdout",
     "output_type": "stream",
     "text": [
      "id: all characters numeric; replaced as int\n",
      "gender: contains nonnumeric characters; no replace\n",
      "race: contains nonnumeric characters; no replace\n",
      "schtyp: contains nonnumeric characters; no replace\n",
      "read: all characters numeric; replaced as byte\n",
      "science: all characters numeric; replaced as byte\n",
      "(2 missing values generated)\n"
     ]
    }
   ],
   "source": [
    "# destring all variables including numerics\n",
    "%stata destring _all, replace"
   ]
  },
  {
   "cell_type": "code",
   "execution_count": 5,
   "id": "2d8cc4f5-74ef-498e-aa33-9d4c5a796295",
   "metadata": {},
   "outputs": [
    {
     "name": "stdout",
     "output_type": "stream",
     "text": [
      "\n",
      "Variable      Storage   Display    Value\n",
      "    name         type    format    label      Variable label\n",
      "-------------------------------------------------------------------------------\n",
      "id              int     %10.0g                \n",
      "race            str5    %9s                   \n",
      "read            byte    %10.0g                \n",
      "science         byte    %10.0g                \n"
     ]
    }
   ],
   "source": [
    "# describe again. \"race\" seems numeric but still string.\n",
    "%stata describe id race read science"
   ]
  },
  {
   "cell_type": "code",
   "execution_count": 6,
   "id": "6a57919b-38bd-4103-89d0-c87adda76e1b",
   "metadata": {},
   "outputs": [
    {
     "name": "stdout",
     "output_type": "stream",
     "text": [
      "\n",
      "     +----------------------------------------------+\n",
      "     | id   gender   race   schtyp   read   science |\n",
      "     |----------------------------------------------|\n",
      " 12. | 60        m      X      pub     57        63 |\n",
      "     +----------------------------------------------+\n"
     ]
    }
   ],
   "source": [
    "# check where race includes non-numeric\n",
    "%stata list _all if missing(real(race))"
   ]
  },
  {
   "cell_type": "code",
   "execution_count": 7,
   "id": "20b1c5a6-ec92-4b7c-9597-39a8e7ce8526",
   "metadata": {},
   "outputs": [
    {
     "name": "stdout",
     "output_type": "stream",
     "text": [
      "(1 real change made)\n"
     ]
    }
   ],
   "source": [
    "# re-assign . to race if it is \"X\"\n",
    "%stata replace race=\".\" if race==\"X\""
   ]
  },
  {
   "cell_type": "code",
   "execution_count": 8,
   "id": "3ec62926-a739-4a37-963d-4a7c4987e62b",
   "metadata": {},
   "outputs": [
    {
     "name": "stdout",
     "output_type": "stream",
     "text": [
      "race: all characters numeric; replaced as byte\n",
      "(1 missing value generated)\n"
     ]
    }
   ],
   "source": [
    "# destring the specific variable, race\n",
    "%stata destring race, replace"
   ]
  },
  {
   "cell_type": "code",
   "execution_count": 10,
   "id": "61a568d6-a1d6-4826-b76c-4289ef779e88",
   "metadata": {},
   "outputs": [
    {
     "name": "stdout",
     "output_type": "stream",
     "text": [
      "\n",
      "Variable      Storage   Display    Value\n",
      "    name         type    format    label      Variable label\n",
      "-------------------------------------------------------------------------------\n",
      "id              int     %10.0g                \n",
      "race            byte    %10.0g                \n",
      "read            byte    %10.0g                \n",
      "science         byte    %10.0g                \n"
     ]
    }
   ],
   "source": [
    "# describe again.\n",
    "%stata describe id race read science"
   ]
  }
 ],
 "metadata": {
  "kernelspec": {
   "display_name": "sec",
   "language": "python",
   "name": "sec"
  },
  "language_info": {
   "codemirror_mode": {
    "name": "ipython",
    "version": 3
   },
   "file_extension": ".py",
   "mimetype": "text/x-python",
   "name": "python",
   "nbconvert_exporter": "python",
   "pygments_lexer": "ipython3",
   "version": "3.8.8"
  }
 },
 "nbformat": 4,
 "nbformat_minor": 5
}
